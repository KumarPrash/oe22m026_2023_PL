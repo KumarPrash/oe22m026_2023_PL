{
 "cells": [
  {
   "cell_type": "markdown",
   "id": "25a6b308",
   "metadata": {},
   "source": [
    "# Column space"
   ]
  },
  {
   "cell_type": "code",
   "execution_count": 1,
   "id": "a71cf2d5",
   "metadata": {},
   "outputs": [
    {
     "name": "stdout",
     "output_type": "stream",
     "text": [
      "Basis for the Column Space using SVD:\n",
      "[[-0.26623586 -0.17064134]\n",
      " [-0.5396153   0.84191171]\n",
      " [ 0.79870758  0.51192403]]\n",
      "\n",
      "Basis for the Column Space using QR:\n",
      "[[-0.26726124  0.95140796  0.152952  ]\n",
      " [-0.53452248 -0.2784383   0.79797107]\n",
      " [ 0.80178373  0.13151046  0.58296471]]\n"
     ]
    }
   ],
   "source": [
    "# TASK 1: You have seen that the SVD of an m × n matrix A gives, among other things, a \n",
    "#basis for the range (column space). Compute this for the given matrix.\n",
    "\n",
    "import numpy as np\n",
    "from scipy.linalg import svd, qr\n",
    "\n",
    "A = np.array([[1, -2, 3, -3], [2, -4, 9, -2], [-3, 6, -9, 9]])\n",
    "\n",
    "# Using SVD to compute the basis for the column space\n",
    "U, S, VT = svd(A)\n",
    "basis_svd = U[:, :np.linalg.matrix_rank(A)]\n",
    "\n",
    "# Using QR to compute the basis for the column space\n",
    "Q, R = qr(A, mode='economic')\n",
    "basis_qr = Q\n",
    "\n",
    "# Print the bases for the column space\n",
    "print(\"Basis for the Column Space using SVD:\")\n",
    "print(basis_svd)\n",
    "print(\"\\nBasis for the Column Space using QR:\")\n",
    "print(basis_qr)\n"
   ]
  },
  {
   "cell_type": "markdown",
   "id": "144b1606",
   "metadata": {},
   "source": [
    "# Explaination"
   ]
  },
  {
   "cell_type": "markdown",
   "id": "2fc38653",
   "metadata": {},
   "source": [
    "1) svd(A) computes the Singular Value Decomposition of matrix A, and U, S, and VT contain the left singular vectors, singular values, and the transpose of the right singular vectors, respectively.\n"
   ]
  },
  {
   "cell_type": "code",
   "execution_count": 2,
   "id": "48d8534a",
   "metadata": {},
   "outputs": [
    {
     "name": "stdout",
     "output_type": "stream",
     "text": [
      "The column spaces obtained using SVD and QR do not span the same subspace.\n"
     ]
    }
   ],
   "source": [
    "# TASK2: Check that the column spaces (not the bases) you obtained in the two ways are the\n",
    "#same. (How would you check that two given bases span the same space?)\n",
    "\n",
    "import numpy as np\n",
    "from scipy.linalg import svd, qr\n",
    "\n",
    "A = np.array([[1, -2, 3, -3], [2, -4, 9, -2], [-3, 6, -9, 9]])\n",
    "\n",
    "# Using SVD to compute a basis for the column space\n",
    "U_svd, S_svd, VT_svd = svd(A)\n",
    "basis_svd = U_svd[:, :np.linalg.matrix_rank(A)]\n",
    "\n",
    "# Using QR to compute a basis for the column space\n",
    "Q_qr, R_qr = qr(A, mode='economic')\n",
    "basis_qr = Q_qr\n",
    "\n",
    "# Check if the two bases span the same space\n",
    "matrix_basis_svd = np.column_stack(basis_svd)\n",
    "matrix_basis_qr = np.column_stack(basis_qr)\n",
    "\n",
    "# Check if the row spaces of the matrices are the same\n",
    "if np.array_equal(np.linalg.matrix_rank(matrix_basis_svd), np.linalg.matrix_rank(matrix_basis_qr)):\n",
    "    print(\"The column spaces obtained using SVD and QR span the same subspace.\")\n",
    "else:\n",
    "    print(\"The column spaces obtained using SVD and QR do not span the same subspace.\")\n"
   ]
  },
  {
   "cell_type": "markdown",
   "id": "8e4d61b5",
   "metadata": {},
   "source": [
    "# Explainlation"
   ]
  },
  {
   "cell_type": "markdown",
   "id": "e8b856d6",
   "metadata": {},
   "source": [
    " If they have the same rank, it means the bases span the same subspace, and you'll get the output indicating that the column spaces are the same."
   ]
  },
  {
   "cell_type": "markdown",
   "id": "7ee040bf",
   "metadata": {},
   "source": [
    "#TASK3: For a 500 × 500 random matrix, which method is faster?\n",
    "in general, QR factorization is often faster for computing the column space of a matrix compared to full SVD, especially for large matrices."
   ]
  },
  {
   "cell_type": "markdown",
   "id": "3348044c",
   "metadata": {},
   "source": [
    "# Null Space"
   ]
  },
  {
   "cell_type": "code",
   "execution_count": 3,
   "id": "8feb1cfc",
   "metadata": {},
   "outputs": [
    {
     "name": "stdout",
     "output_type": "stream",
     "text": [
      "Basis for the Null Space:\n",
      "[[ 0.73927059]\n",
      " [ 0.4887474 ]\n",
      " [-0.24642353]\n",
      " [ 0.35086228]\n",
      " [ 0.17543114]]\n"
     ]
    }
   ],
   "source": [
    "#TASK1: Find the null space of the given matrix A using SVD.\n",
    "\n",
    "import numpy as np\n",
    "from scipy.linalg import svd\n",
    "\n",
    "A = np.array([[1, -2, 9, 5, 4], [1, -1, 6, 5, -3], [-2, 0, -6, 1, -2], [4, 1, 9, 1, -9]])\n",
    "\n",
    "# Compute the SVD of matrix A\n",
    "U, S, VT = svd(A)\n",
    "\n",
    "# Find the singular values that are close to zero (within a small tolerance)\n",
    "tolerance = 1e-10  # You can adjust this tolerance based on your needs\n",
    "small_singular_values = S[S < tolerance]\n",
    "\n",
    "# The number of singular values close to zero is the dimension of the null space\n",
    "null_space_dimension = len(small_singular_values)\n",
    "\n",
    "# The right singular vectors corresponding to these singular values form a basis for the null space\n",
    "null_space_basis = VT[-null_space_dimension:].T\n",
    "\n",
    "# The null space basis spans the null space of the matrix A\n",
    "\n",
    "# Print the basis for the null space\n",
    "print(\"Basis for the Null Space:\")\n",
    "print(null_space_basis)\n"
   ]
  },
  {
   "cell_type": "markdown",
   "id": "39b4bb4e",
   "metadata": {},
   "source": [
    "# TASK2: "
   ]
  },
  {
   "cell_type": "code",
   "execution_count": 4,
   "id": "a1c87aa9",
   "metadata": {},
   "outputs": [
    {
     "name": "stdout",
     "output_type": "stream",
     "text": [
      "Basis for the Null Space (Orthogonal Complement):\n",
      "[]\n"
     ]
    }
   ],
   "source": [
    "import numpy as np\n",
    "from scipy.linalg import qr\n",
    "\n",
    "A = np.array([[1, -2, 9, 5, 4], [1, -1, 6, 5, -3], [-2, 0, -6, 1, -2], [4, 1, 9, 1, -9]])\n",
    "\n",
    "# Compute the QR factorization of the transpose of A\n",
    "Q, R = qr(A.T, mode='economic')\n",
    "\n",
    "# Extract the orthogonal complement from the Q matrix\n",
    "n, m = A.shape  # n is the number of rows, m is the number of columns\n",
    "orthogonal_complement = Q[:, n:]\n",
    "\n",
    "# The orthogonal complement contains basis vectors for the null space of A\n",
    "\n",
    "# Print the basis for the null space\n",
    "print(\"Basis for the Null Space (Orthogonal Complement):\")\n",
    "print(orthogonal_complement)\n"
   ]
  },
  {
   "cell_type": "code",
   "execution_count": 5,
   "id": "71a8ce4d",
   "metadata": {},
   "outputs": [],
   "source": [
    "# That the orthogonal complement  is equivalent to the null space of A, as per the fundamental theorem of linear algebra."
   ]
  },
  {
   "cell_type": "code",
   "execution_count": 7,
   "id": "002a5947",
   "metadata": {},
   "outputs": [
    {
     "name": "stdout",
     "output_type": "stream",
     "text": [
      "The null spaces are empty, and they cannot be compared.\n"
     ]
    }
   ],
   "source": [
    "# TASK3: Check that both answers above span the same space.\n",
    "\n",
    "import numpy as np\n",
    "from scipy.linalg import svd, qr\n",
    "\n",
    "A = np.array([[1, -2, 9, 5, 4], [1, -1, 6, 5, -3], [-2, 0, -6, 1, -2], [4, 1, 9, 1, -9]])\n",
    "\n",
    "# Using SVD to compute a basis for the null space\n",
    "U_svd, S_svd, VT_svd = svd(A)\n",
    "null_space_basis_svd = VT_svd[-S_svd.size:].T\n",
    "\n",
    "# Using QR to compute a basis for the null space\n",
    "Q_qr, R_qr = qr(A.T, mode='economic')\n",
    "null_space_basis_qr = Q_qr[:, A.shape[0]:]\n",
    "\n",
    "# Check if the two bases span the same space\n",
    "if null_space_basis_svd.shape[1] == 0 or null_space_basis_qr.shape[1] == 0:\n",
    "    print(\"The null spaces are empty, and they cannot be compared.\")\n",
    "else:\n",
    "    matrix_basis_svd = np.column_stack(null_space_basis_svd)\n",
    "    matrix_basis_qr = np.column_stack(null_space_basis_qr)\n",
    "    \n",
    "    # Check if the row spaces of the matrices are the same\n",
    "    if np.array_equal(np.linalg.matrix_rank(matrix_basis_svd), np.linalg.matrix_rank(matrix_basis_qr)):\n",
    "        print(\"The null spaces obtained using SVD and QR span the same subspace.\")\n",
    "    else:\n",
    "        print(\"The null spaces obtained using SVD and QR do not span the same subspace.\")\n",
    "\n"
   ]
  },
  {
   "cell_type": "code",
   "execution_count": 8,
   "id": "de5ce9ac",
   "metadata": {},
   "outputs": [],
   "source": [
    "#  if the null spaces are empty and if they are, it informs you that they cannot be compared. If the null spaces are not empty, it checks whether they span the same subspace as previously described."
   ]
  },
  {
   "cell_type": "code",
   "execution_count": null,
   "id": "4188c8ce",
   "metadata": {},
   "outputs": [],
   "source": []
  }
 ],
 "metadata": {
  "kernelspec": {
   "display_name": "Python 3 (ipykernel)",
   "language": "python",
   "name": "python3"
  },
  "language_info": {
   "codemirror_mode": {
    "name": "ipython",
    "version": 3
   },
   "file_extension": ".py",
   "mimetype": "text/x-python",
   "name": "python",
   "nbconvert_exporter": "python",
   "pygments_lexer": "ipython3",
   "version": "3.10.9"
  }
 },
 "nbformat": 4,
 "nbformat_minor": 5
}
