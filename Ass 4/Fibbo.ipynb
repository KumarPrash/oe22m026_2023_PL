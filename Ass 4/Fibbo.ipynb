{
 "cells": [
  {
   "cell_type": "markdown",
   "id": "29082c17",
   "metadata": {},
   "source": [
    "Representing sequences is one of the elementary tasks any programming language should\n",
    "be able to do well. Python lists can certainly be used for this. For example, the following\n",
    "list comprehension gives elements of the sequence"
   ]
  },
  {
   "cell_type": "markdown",
   "id": "1ef178a0",
   "metadata": {},
   "source": [
    "# Generator Expression."
   ]
  },
  {
   "cell_type": "code",
   "execution_count": 1,
   "id": "e6582adb",
   "metadata": {},
   "outputs": [],
   "source": [
    "i=2; N=10\n",
    "L = [n**i for n in range(1, N)]"
   ]
  },
  {
   "cell_type": "code",
   "execution_count": 2,
   "id": "25d52ed2",
   "metadata": {},
   "outputs": [],
   "source": [
    "G = (n**i for n in range(1, N))"
   ]
  },
  {
   "cell_type": "code",
   "execution_count": 3,
   "id": "cd587e1a",
   "metadata": {},
   "outputs": [
    {
     "data": {
      "text/plain": [
       "[1, 4, 9, 16, 25, 36, 49, 64, 81]"
      ]
     },
     "execution_count": 3,
     "metadata": {},
     "output_type": "execute_result"
    }
   ],
   "source": [
    "#Both L and G are examples of iterators\n",
    "[l for l in L]"
   ]
  },
  {
   "cell_type": "code",
   "execution_count": 4,
   "id": "75aba348",
   "metadata": {},
   "outputs": [
    {
     "data": {
      "text/plain": [
       "[1, 4, 9, 16, 25, 36, 49, 64, 81]"
      ]
     },
     "execution_count": 4,
     "metadata": {},
     "output_type": "execute_result"
    }
   ],
   "source": [
    "[g for g in G]"
   ]
  },
  {
   "cell_type": "code",
   "execution_count": 5,
   "id": "0c3d1f50",
   "metadata": {},
   "outputs": [
    {
     "data": {
      "text/plain": [
       "[]"
      ]
     },
     "execution_count": 5,
     "metadata": {},
     "output_type": "execute_result"
    }
   ],
   "source": [
    "[g for g in G]"
   ]
  },
  {
   "cell_type": "markdown",
   "id": "11c008b5",
   "metadata": {},
   "source": [
    "# Generator Functions"
   ]
  },
  {
   "cell_type": "code",
   "execution_count": 6,
   "id": "74a579f8",
   "metadata": {},
   "outputs": [],
   "source": [
    "def GG():\n",
    "    for n in range(1, N):\n",
    "        yield n**i"
   ]
  },
  {
   "cell_type": "code",
   "execution_count": 7,
   "id": "4103f087",
   "metadata": {},
   "outputs": [
    {
     "name": "stdout",
     "output_type": "stream",
     "text": [
      "1 4 9 16 25 36 49 64 81\n"
     ]
    }
   ],
   "source": [
    "G2 = GG()\n",
    "print(*G2) # see that you get the same values as before"
   ]
  },
  {
   "cell_type": "code",
   "execution_count": 8,
   "id": "17d50932",
   "metadata": {},
   "outputs": [
    {
     "data": {
      "text/plain": [
       "(1, 4, 9)"
      ]
     },
     "execution_count": 8,
     "metadata": {},
     "output_type": "execute_result"
    }
   ],
   "source": [
    "G2 = GG()\n",
    "# get the first 3 values of the sequence using next:\n",
    "next(G2), next(G2), next(G2)"
   ]
  },
  {
   "cell_type": "code",
   "execution_count": 9,
   "id": "df831485",
   "metadata": {},
   "outputs": [
    {
     "name": "stdout",
     "output_type": "stream",
     "text": [
      "16 25 36 49 64 81\n"
     ]
    }
   ],
   "source": [
    "print(*G2) # print the remaining values of the sequence"
   ]
  },
  {
   "cell_type": "markdown",
   "id": "0a04d95d",
   "metadata": {},
   "source": [
    "# Disposable generators or reusable lists?"
   ]
  },
  {
   "cell_type": "code",
   "execution_count": 10,
   "id": "d539999e",
   "metadata": {},
   "outputs": [],
   "source": [
    "i = -20\n",
    "N = 10**8"
   ]
  },
  {
   "cell_type": "code",
   "execution_count": 11,
   "id": "ea8a8c1a",
   "metadata": {},
   "outputs": [
    {
     "name": "stdout",
     "output_type": "stream",
     "text": [
      "Requirement already satisfied: memory_profiler in c:\\users\\prash\\anaconda3\\lib\\site-packages (0.61.0)\n",
      "Requirement already satisfied: psutil in c:\\users\\prash\\anaconda3\\lib\\site-packages (from memory_profiler) (5.9.0)\n",
      "Note: you may need to restart the kernel to use updated packages.\n"
     ]
    }
   ],
   "source": [
    "pip install memory_profiler"
   ]
  },
  {
   "cell_type": "code",
   "execution_count": 12,
   "id": "3a8f680c",
   "metadata": {},
   "outputs": [],
   "source": [
    "%load_ext memory_profiler"
   ]
  },
  {
   "cell_type": "code",
   "execution_count": 13,
   "id": "7955ec76",
   "metadata": {},
   "outputs": [
    {
     "name": "stdout",
     "output_type": "stream",
     "text": [
      "peak memory: 4182.37 MiB, increment: 4109.35 MiB\n"
     ]
    }
   ],
   "source": [
    "%memit sum([n**i for n in range(1, N)])"
   ]
  },
  {
   "cell_type": "code",
   "execution_count": 14,
   "id": "a315ee8b",
   "metadata": {},
   "outputs": [
    {
     "name": "stdout",
     "output_type": "stream",
     "text": [
      "1.0000009539620338\n"
     ]
    }
   ],
   "source": [
    "#we should not need so much memory for such a simple task.\n",
    "#A better solution is offered by the generator expression.\n",
    "G3 = (n**i for n in range(1, N))\n",
    "s = 0\n",
    "for g in G3:\n",
    "  s += g\n",
    "  if g < 1e-15:\n",
    "    break\n",
    "print(s)"
   ]
  },
  {
   "cell_type": "markdown",
   "id": "8b88ee21",
   "metadata": {},
   "source": [
    "#  Infnite sequences"
   ]
  },
  {
   "cell_type": "code",
   "execution_count": 15,
   "id": "87102b51",
   "metadata": {},
   "outputs": [],
   "source": [
    "def natural_numbers():\n",
    "  n = 0\n",
    "  while True:\n",
    "    yield n\n",
    "    n += 1"
   ]
  },
  {
   "cell_type": "code",
   "execution_count": 16,
   "id": "456ddbff",
   "metadata": {},
   "outputs": [
    {
     "name": "stdout",
     "output_type": "stream",
     "text": [
      "0\n",
      "1\n",
      "2\n",
      "3\n",
      "4\n",
      "5\n"
     ]
    }
   ],
   "source": [
    "for n in natural_numbers():\n",
    "  print(n)\n",
    "  if n >= 5: break # don't go into infinite loop!"
   ]
  },
  {
   "cell_type": "markdown",
   "id": "9bca20f0",
   "metadata": {},
   "source": [
    "# Fibonacci generator"
   ]
  },
  {
   "cell_type": "code",
   "execution_count": 17,
   "id": "86a40c94",
   "metadata": {},
   "outputs": [],
   "source": [
    "# F0 = 0, F1 = 1, ∀n > 1 : Fn = Fn−1 + Fn−2\n",
    "def fibonacci(max):\n",
    "  f, fnext = 0, 1\n",
    "  while f < max:\n",
    "    yield f\n",
    "    f, fnext = fnext, f + fnext"
   ]
  },
  {
   "cell_type": "code",
   "execution_count": 18,
   "id": "41d4a679",
   "metadata": {},
   "outputs": [
    {
     "name": "stdout",
     "output_type": "stream",
     "text": [
      "0 1 1 2 3 5 8 13 21 34 55 89 144 233 377 610 987 1597 2584 4181 6765\n"
     ]
    }
   ],
   "source": [
    "Fn = fibonacci(10000)\n",
    "print(*Fn)"
   ]
  },
  {
   "cell_type": "markdown",
   "id": "162a9a04",
   "metadata": {},
   "source": [
    "# Prime number generato"
   ]
  },
  {
   "cell_type": "code",
   "execution_count": 19,
   "id": "32b1e4da",
   "metadata": {},
   "outputs": [
    {
     "data": {
      "text/plain": [
       "[0, 1]"
      ]
     },
     "execution_count": 19,
     "metadata": {},
     "output_type": "execute_result"
    }
   ],
   "source": [
    "P = [2, 3]\n",
    "# Then, the next number n = 4 has remainders 4%p given by\n",
    "[4 % p for p in P] "
   ]
  },
  {
   "cell_type": "code",
   "execution_count": 20,
   "id": "859d16db",
   "metadata": {},
   "outputs": [
    {
     "data": {
      "text/plain": [
       "False"
      ]
     },
     "execution_count": 20,
     "metadata": {},
     "output_type": "execute_result"
    }
   ],
   "source": [
    "all([4 % p for p in P])"
   ]
  },
  {
   "cell_type": "code",
   "execution_count": 21,
   "id": "7c7665fa",
   "metadata": {},
   "outputs": [
    {
     "data": {
      "text/plain": [
       "True"
      ]
     },
     "execution_count": 21,
     "metadata": {},
     "output_type": "execute_result"
    }
   ],
   "source": [
    "#Hence the generator would conclude that the number 4 is not a prime, and proceed to the\n",
    "#next case n = 5, which it would conclude is a prime because\n",
    "all([5 % p for p in P])"
   ]
  },
  {
   "cell_type": "code",
   "execution_count": 22,
   "id": "812aec07",
   "metadata": {},
   "outputs": [],
   "source": [
    "def prime_numbers(N):\n",
    "  primes = []\n",
    "  q = 1\n",
    "  for n in range(q+1, N):\n",
    "    if all(n % p > 0 for p in primes):\n",
    "      primes.append(n)\n",
    "      q = n\n",
    "      yield n"
   ]
  },
  {
   "cell_type": "code",
   "execution_count": 23,
   "id": "228ec7a8",
   "metadata": {},
   "outputs": [
    {
     "data": {
      "text/plain": [
       "[2, 3, 5, 7, 11, 13, 17, 19, 23, 29, 31, 37, 41, 43, 47, 53, 59, 61, 67]"
      ]
     },
     "execution_count": 23,
     "metadata": {},
     "output_type": "execute_result"
    }
   ],
   "source": [
    "list(prime_numbers(70))"
   ]
  },
  {
   "cell_type": "markdown",
   "id": "a463ba79",
   "metadata": {},
   "source": [
    "#  First few Fibonacci primes"
   ]
  },
  {
   "cell_type": "code",
   "execution_count": 24,
   "id": "a9ce0442",
   "metadata": {},
   "outputs": [
    {
     "data": {
      "text/plain": [
       "'\\nNow we can generate all primes less than any number N and all Fibonacci numbers less\\nthan N. Listing Fibonacci primes less than N then becomes possible by simply intersecting\\nthe two sets. Python does have a set data structure which comes with a handy intersection\\nmethod, so the code is trivial:\\n'"
      ]
     },
     "execution_count": 24,
     "metadata": {},
     "output_type": "execute_result"
    }
   ],
   "source": [
    "'''\n",
    "Now we can generate all primes less than any number N and all Fibonacci numbers less\n",
    "than N. Listing Fibonacci primes less than N then becomes possible by simply intersecting\n",
    "the two sets. Python does have a set data structure which comes with a handy intersection\n",
    "method, so the code is trivial:\n",
    "'''"
   ]
  },
  {
   "cell_type": "code",
   "execution_count": 25,
   "id": "1ddf5e58",
   "metadata": {},
   "outputs": [
    {
     "name": "stdout",
     "output_type": "stream",
     "text": [
      "Intersecting 9592 primes with 25 fibonaccis.\n"
     ]
    },
    {
     "data": {
      "text/plain": [
       "{2, 3, 5, 13, 89, 233, 1597, 28657}"
      ]
     },
     "execution_count": 25,
     "metadata": {},
     "output_type": "execute_result"
    }
   ],
   "source": [
    "def fibonacci_primes(N):\n",
    "    F = set(fibonacci(N))\n",
    "    P = set(prime_numbers(N))\n",
    "    print('Intersecting', len(P), 'primes with', len(F), 'fibonaccis.')\n",
    "    return P.intersection(F)\n",
    "fibonacci_primes(100000)"
   ]
  },
  {
   "cell_type": "markdown",
   "id": "9f907934",
   "metadata": {},
   "source": [
    "#  Verifcation"
   ]
  },
  {
   "cell_type": "code",
   "execution_count": 26,
   "id": "e1a88f7e",
   "metadata": {},
   "outputs": [],
   "source": [
    "nFP = [3, 4, 5, 7, 11, 13, 17, 23, 29, 43]\n",
    "def test_fibonacci_prime():\n",
    "  N = 10000\n",
    "  F = list(fibonacci(N))\n",
    "  nFP = [3, 4, 5, 7, 11, 13, 17, 23, 29, 43]\n",
    "  our_list = fibonacci_primes(N)\n",
    "  known_list = set([F[n] for n in nFP if n < len(F)])\n",
    "  assert len(known_list.difference(our_list))==0, 'We have a bug!'\n",
    "  print('Passed test!')"
   ]
  },
  {
   "cell_type": "code",
   "execution_count": 27,
   "id": "271bd00b",
   "metadata": {},
   "outputs": [
    {
     "name": "stdout",
     "output_type": "stream",
     "text": [
      "Intersecting 1229 primes with 20 fibonaccis.\n",
      "Passed test!\n"
     ]
    }
   ],
   "source": [
    "test_fibonacci_prime()"
   ]
  },
  {
   "cell_type": "code",
   "execution_count": null,
   "id": "25ab6d29",
   "metadata": {},
   "outputs": [],
   "source": []
  }
 ],
 "metadata": {
  "kernelspec": {
   "display_name": "Python 3 (ipykernel)",
   "language": "python",
   "name": "python3"
  },
  "language_info": {
   "codemirror_mode": {
    "name": "ipython",
    "version": 3
   },
   "file_extension": ".py",
   "mimetype": "text/x-python",
   "name": "python",
   "nbconvert_exporter": "python",
   "pygments_lexer": "ipython3",
   "version": "3.10.9"
  }
 },
 "nbformat": 4,
 "nbformat_minor": 5
}
