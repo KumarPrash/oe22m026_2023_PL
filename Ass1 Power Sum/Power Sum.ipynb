{
 "cells": [
  {
   "cell_type": "markdown",
   "id": "12e26885",
   "metadata": {},
   "source": [
    "# Power Sum"
   ]
  },
  {
   "cell_type": "code",
   "execution_count": 9,
   "id": "c9e8902d",
   "metadata": {},
   "outputs": [
    {
     "name": "stdout",
     "output_type": "stream",
     "text": [
      "Please enter number8\n",
      "Please enter your power3\n",
      "1296\n"
     ]
    }
   ],
   "source": [
    "\n",
    "# Define my function.\n",
    "\n",
    "def power__sum(num,power):\n",
    "    sum=0\n",
    "    \n",
    "    for i in range(1,num+1):\n",
    "        sum+=i**power\n",
    "    return sum\n",
    "\n",
    "# Take inputs from the users, i.e Number and power.\n",
    "\n",
    "num=int(input(\"Please enter number\"))\n",
    "power=int(input(\"Please enter your power\"))\n",
    "\n",
    "if (num>0 and power>0):\n",
    "    print(power__sum(num,power))\n",
    "\n",
    "else:\n",
    "    print(\"Please enter positive num and power.Thank you\")\n",
    "    "
   ]
  },
  {
   "cell_type": "markdown",
   "id": "1c3c4d90",
   "metadata": {},
   "source": [
    "## Thank you\n"
   ]
  },
  {
   "cell_type": "code",
   "execution_count": null,
   "id": "5209033a",
   "metadata": {},
   "outputs": [],
   "source": []
  }
 ],
 "metadata": {
  "kernelspec": {
   "display_name": "Python 3 (ipykernel)",
   "language": "python",
   "name": "python3"
  },
  "language_info": {
   "codemirror_mode": {
    "name": "ipython",
    "version": 3
   },
   "file_extension": ".py",
   "mimetype": "text/x-python",
   "name": "python",
   "nbconvert_exporter": "python",
   "pygments_lexer": "ipython3",
   "version": "3.10.9"
  }
 },
 "nbformat": 4,
 "nbformat_minor": 5
}
