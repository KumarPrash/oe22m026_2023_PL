{
 "cells": [
  {
   "cell_type": "markdown",
   "id": "79b8c7ee",
   "metadata": {},
   "source": [
    "#  Pandas from dictionaries"
   ]
  },
  {
   "cell_type": "code",
   "execution_count": 1,
   "id": "89c316a3",
   "metadata": {},
   "outputs": [
    {
     "name": "stdout",
     "output_type": "stream",
     "text": [
      "2    a\n",
      "1    b\n",
      "3    c\n",
      "dtype: object\n"
     ]
    }
   ],
   "source": [
    "#TASK1: Convert d0 to a corresponding pandas object pd0.\n",
    "import pandas as pd\n",
    "\n",
    "d0 = {2: 'a', 1: 'b', 3: 'c'}\n",
    "pd0 = pd.Series(d0)\n",
    "\n",
    "# Display the pandas Series\n",
    "print(pd0)\n"
   ]
  },
  {
   "cell_type": "code",
   "execution_count": 2,
   "id": "066d8fcf",
   "metadata": {},
   "outputs": [
    {
     "name": "stdout",
     "output_type": "stream",
     "text": [
      "1    b\n",
      "2    a\n",
      "3    c\n",
      "dtype: object\n"
     ]
    }
   ],
   "source": [
    "# 2) Sort indices of pd0.\n",
    "import pandas as pd\n",
    "\n",
    "d0 = {2: 'a', 1: 'b', 3: 'c'}\n",
    "pd0 = pd.Series(d0)\n",
    "\n",
    "# Sort the indices\n",
    "pd0_sorted = pd0.sort_index()\n",
    "\n",
    "# Display the sorted Series\n",
    "print(pd0_sorted)\n"
   ]
  },
  {
   "cell_type": "code",
   "execution_count": 3,
   "id": "0a1f05d4",
   "metadata": {},
   "outputs": [
    {
     "name": "stdout",
     "output_type": "stream",
     "text": [
      "    d1   d2\n",
      "a  1.0  NaN\n",
      "b  2.0  3.0\n",
      "c  NaN  4.0\n"
     ]
    }
   ],
   "source": [
    "#3) Convert d1, d2 (together) to a pandas object dd.\n",
    "\n",
    "\n",
    "d1 = {'a': 1, 'b': 2}\n",
    "d2 = {'b': 3, 'c': 4}\n",
    "\n",
    "# Create a pandas DataFrame from d1 and d2\n",
    "dd = pd.DataFrame({'d1': d1, 'd2': d2})\n",
    "\n",
    "# Display the DataFrame\n",
    "print(dd)\n"
   ]
  },
  {
   "cell_type": "code",
   "execution_count": 4,
   "id": "52893ad9",
   "metadata": {},
   "outputs": [
    {
     "name": "stdout",
     "output_type": "stream",
     "text": [
      "a    1.0\n",
      "b    2.0\n",
      "c    NaN\n",
      "Name: d1, dtype: float64\n",
      "2.0\n"
     ]
    }
   ],
   "source": [
    "#4) Give examples of indexing and slicing on dd.\n",
    "\n",
    "# By Column name.\n",
    "column_d1 = dd['d1']\n",
    "print(column_d1)\n",
    "\n",
    "#Select a single value by specifying both the column and index:\n",
    "value_b_in_d1 = dd['d1']['b']\n",
    "print(value_b_in_d1)\n"
   ]
  },
  {
   "cell_type": "code",
   "execution_count": 5,
   "id": "7b11437c",
   "metadata": {},
   "outputs": [
    {
     "name": "stdout",
     "output_type": "stream",
     "text": [
      "d1    1.0\n",
      "d2    NaN\n",
      "Name: a, dtype: float64\n",
      "    d1   d2\n",
      "b  2.0  3.0\n",
      "c  NaN  4.0\n"
     ]
    }
   ],
   "source": [
    "# Slicing rows.\n",
    "\n",
    "row_a = dd.loc['a']\n",
    "print(row_a)\n",
    "\n",
    "#Select multiple rows using slicing:\n",
    "rows_b_to_c = dd.loc['b':'c']\n",
    "print(rows_b_to_c)\n"
   ]
  },
  {
   "cell_type": "code",
   "execution_count": 6,
   "id": "2385f4e2",
   "metadata": {},
   "outputs": [
    {
     "name": "stdout",
     "output_type": "stream",
     "text": [
      "    d1   d2\n",
      "a  1.0  NaN\n",
      "b  2.0  3.0\n",
      "3.0\n"
     ]
    }
   ],
   "source": [
    "# Slicing rows and columns.\n",
    "subset = dd.loc[['a', 'b'], ['d1', 'd2']]\n",
    "print(subset)\n",
    "\n",
    "#Select a specific value at the intersection of a row and column:\n",
    "value_b_in_d2 = dd.loc['b', 'd2']\n",
    "print(value_b_in_d2)\n"
   ]
  },
  {
   "cell_type": "code",
   "execution_count": 7,
   "id": "2a0dcd7d",
   "metadata": {},
   "outputs": [
    {
     "name": "stdout",
     "output_type": "stream",
     "text": [
      "d1    1.0\n",
      "d2    NaN\n",
      "Name: a, dtype: float64\n"
     ]
    }
   ],
   "source": [
    "# 5) Give examples of implicit and explicit indexing on dd.\n",
    "\n",
    "#Implicit row indexing:\n",
    "row_iloc = dd.iloc[0]  # Selects the first row (integer-based index)\n",
    "print(row_iloc)\n"
   ]
  },
  {
   "cell_type": "code",
   "execution_count": 8,
   "id": "3aabe40d",
   "metadata": {},
   "outputs": [
    {
     "name": "stdout",
     "output_type": "stream",
     "text": [
      "a    NaN\n",
      "b    3.0\n",
      "c    4.0\n",
      "Name: d2, dtype: float64\n"
     ]
    }
   ],
   "source": [
    "# Indexing column indexing.\n",
    "column_iloc = dd.iloc[:, 1]  # Selects the second column (integer-based index)\n",
    "print(column_iloc)\n"
   ]
  },
  {
   "cell_type": "code",
   "execution_count": 9,
   "id": "bf77e400",
   "metadata": {},
   "outputs": [
    {
     "name": "stdout",
     "output_type": "stream",
     "text": [
      "d1    1.0\n",
      "d2    NaN\n",
      "Name: a, dtype: float64\n"
     ]
    }
   ],
   "source": [
    "#Explicit Indexing (Label-Based Indexing):\n",
    "#Explicit row indexing:\n",
    "\n",
    "row_loc = dd.loc['a']  # Selects the row with the label 'a'\n",
    "print(row_loc)\n"
   ]
  },
  {
   "cell_type": "code",
   "execution_count": 10,
   "id": "9bbc0b27",
   "metadata": {},
   "outputs": [
    {
     "name": "stdout",
     "output_type": "stream",
     "text": [
      "a    NaN\n",
      "b    3.0\n",
      "c    4.0\n",
      "Name: d2, dtype: float64\n"
     ]
    }
   ],
   "source": [
    "# Explicit column indexing.\n",
    "column_loc = dd.loc[:, 'd2']  # Selects the 'd2' column\n",
    "print(column_loc)\n"
   ]
  },
  {
   "cell_type": "code",
   "execution_count": 11,
   "id": "5e86b464",
   "metadata": {},
   "outputs": [
    {
     "name": "stdout",
     "output_type": "stream",
     "text": [
      "Original DataFrame:\n",
      "     A    B   C\n",
      "0  1.0  5.0   9\n",
      "1  NaN  6.0  10\n",
      "2  3.0  NaN  11\n",
      "3  NaN  8.0  12\n",
      "\n",
      "Forward fill along rows (axis=0):\n",
      "     A    B   C\n",
      "0  1.0  5.0   9\n",
      "1  1.0  6.0  10\n",
      "2  3.0  6.0  11\n",
      "3  3.0  8.0  12\n",
      "\n",
      "Backward fill along rows (axis=0):\n",
      "     A    B   C\n",
      "0  1.0  5.0   9\n",
      "1  3.0  6.0  10\n",
      "2  3.0  8.0  11\n",
      "3  NaN  8.0  12\n",
      "\n",
      "Forward fill along columns (axis=1):\n",
      "     A    B     C\n",
      "0  1.0  5.0   9.0\n",
      "1  NaN  6.0  10.0\n",
      "2  3.0  3.0  11.0\n",
      "3  NaN  8.0  12.0\n",
      "\n",
      "Backward fill along columns (axis=1):\n",
      "     A     B     C\n",
      "0  1.0   5.0   9.0\n",
      "1  6.0   6.0  10.0\n",
      "2  3.0  11.0  11.0\n",
      "3  8.0   8.0  12.0\n"
     ]
    }
   ],
   "source": [
    "# Forward fll and backfll missing values using various axis.\n",
    "\n",
    "import pandas as pd\n",
    "import numpy as np\n",
    "\n",
    "# Create a sample DataFrame with missing values\n",
    "data = {'A': [1, np.nan, 3, np.nan],\n",
    "        'B': [5, 6, np.nan, 8],\n",
    "        'C': [9, 10, 11, 12]}\n",
    "\n",
    "df = pd.DataFrame(data)\n",
    "\n",
    "# Display the original DataFrame\n",
    "print(\"Original DataFrame:\")\n",
    "print(df)\n",
    "\n",
    "# Forward fill along rows (axis=0)\n",
    "df_ffill_rows = df.ffill(axis=0)\n",
    "print(\"\\nForward fill along rows (axis=0):\")\n",
    "print(df_ffill_rows)\n",
    "\n",
    "# Backward fill along rows (axis=0)\n",
    "df_bfill_rows = df.bfill(axis=0)\n",
    "print(\"\\nBackward fill along rows (axis=0):\")\n",
    "print(df_bfill_rows)\n",
    "\n",
    "# Forward fill along columns (axis=1)\n",
    "df_ffill_columns = df.ffill(axis=1)\n",
    "print(\"\\nForward fill along columns (axis=1):\")\n",
    "print(df_ffill_columns)\n",
    "\n",
    "# Backward fill along columns (axis=1)\n",
    "df_bfill_columns = df.bfill(axis=1)\n",
    "print(\"\\nBackward fill along columns (axis=1):\")\n",
    "print(df_bfill_columns)\n",
    "\n"
   ]
  },
  {
   "cell_type": "code",
   "execution_count": null,
   "id": "58dd89e1",
   "metadata": {},
   "outputs": [],
   "source": []
  }
 ],
 "metadata": {
  "kernelspec": {
   "display_name": "Python 3 (ipykernel)",
   "language": "python",
   "name": "python3"
  },
  "language_info": {
   "codemirror_mode": {
    "name": "ipython",
    "version": 3
   },
   "file_extension": ".py",
   "mimetype": "text/x-python",
   "name": "python",
   "nbconvert_exporter": "python",
   "pygments_lexer": "ipython3",
   "version": "3.10.9"
  }
 },
 "nbformat": 4,
 "nbformat_minor": 5
}
