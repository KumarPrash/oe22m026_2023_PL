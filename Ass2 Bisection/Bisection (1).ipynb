{
 "cells": [
  {
   "cell_type": "code",
   "execution_count": 1,
   "id": "9a347105",
   "metadata": {},
   "outputs": [
    {
     "name": "stdout",
     "output_type": "stream",
     "text": [
      "Result is 1.5707964897155762\n"
     ]
    }
   ],
   "source": [
    "import math\n",
    "def equation(x):\n",
    "    return math.cos(x)\n",
    "\n",
    "\n",
    "# Define our function.\n",
    "def bisection(f, a, b, eps=1e-6,iteration=100):\n",
    "    if f(a)*f(b)>=0:\n",
    "        # Root won't be there if above condition satisfies.\n",
    "        print(\"Given approximate root do not bracket the root\")\n",
    "        print(\"Try again with different values\")\n",
    "        \n",
    "        \n",
    "    else:\n",
    "        for j in range(iteration):\n",
    "            c=(a+b)/2\n",
    "            if abs(f(c))<eps:\n",
    "                return c\n",
    "            # It returns exact value of root.\n",
    "            elif f(c)*f(a)<0:\n",
    "                b=c\n",
    "            # If signs are opposite then roots are in range.\n",
    "            \n",
    "            else:\n",
    "                a=c\n",
    "            \n",
    "            \n",
    "    \n",
    "        return(\"Sorry our Bisection didnt converges\")\n",
    "    \n",
    "    \n",
    "    \n",
    " #Test it\n",
    "root_=bisection(equation,0.5,2)\n",
    "    \n",
    "print(\"Result is\",root_)\n",
    "    \n",
    "    \n",
    "        \n",
    "        \n",
    "     \n",
    "    \n",
    "    \n",
    "    \n",
    "    \n",
    "    \n",
    "    "
   ]
  },
  {
   "cell_type": "code",
   "execution_count": null,
   "id": "6c9b3a1d",
   "metadata": {},
   "outputs": [],
   "source": []
  },
  {
   "cell_type": "code",
   "execution_count": null,
   "id": "620192df",
   "metadata": {},
   "outputs": [],
   "source": []
  }
 ],
 "metadata": {
  "kernelspec": {
   "display_name": "Python 3 (ipykernel)",
   "language": "python",
   "name": "python3"
  },
  "language_info": {
   "codemirror_mode": {
    "name": "ipython",
    "version": 3
   },
   "file_extension": ".py",
   "mimetype": "text/x-python",
   "name": "python",
   "nbconvert_exporter": "python",
   "pygments_lexer": "ipython3",
   "version": "3.10.9"
  }
 },
 "nbformat": 4,
 "nbformat_minor": 5
}
